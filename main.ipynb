{
 "cells": [
  {
   "cell_type": "markdown",
   "metadata": {},
   "source": [
    "## Detailed data on commercial banks holdings"
   ]
  },
  {
   "cell_type": "code",
   "execution_count": 13,
   "metadata": {},
   "outputs": [],
   "source": [
    "import os\n",
    "import pandas as pd\n",
    "rootdir = '/'.join(os.getcwd().split('/')[:-1]+['/Fed/FRB_H8/'])\n",
    "pathd = rootdir + 'FRB_H8_D.csv'\n",
    "pathf = rootdir + 'FRB_H8_F.csv'\n",
    "path = rootdir + 'FRB_H8.csv'\n",
    "\n",
    "H8_all = pd.read_csv(path)\n",
    "labels = list(H8_all)\n",
    "items = [label.split(\",\")[0] for label in labels]"
   ]
  },
  {
   "cell_type": "code",
   "execution_count": 14,
   "metadata": {},
   "outputs": [],
   "source": [
    "H8_all = pd.read_csv(path   , header = 5, index_col = 0)\n",
    "H8_dom = pd.read_csv(pathd , header = 5, index_col = 0)\n",
    "H8_for = pd.read_csv(pathf , header = 5, index_col = 0)\n",
    "\n",
    "def look_up(text, df):\n",
    "    for i, item in enumerate(items):\n",
    "        if item == text:\n",
    "            return list(df)[i-1] \n",
    "\n",
    "def by_country(text):\n",
    "    col1 = H8_all[look_up(text, H8_all)]\n",
    "    col2 = H8_dom[look_up(text, H8_dom)]\n",
    "    col3 = H8_for[look_up(text, H8_for)]\n",
    "    names = ['All Commercial Banks', 'Domestically Chartered Banks', 'Foreign-related Institutions']\n",
    "    data = [col1, col2, col3]\n",
    "    df = pd.DataFrame(dict(zip(names, data)), columns = names)\n",
    "    df.index = pd.to_datetime(df.index)\n",
    "    return df"
   ]
  },
  {
   "cell_type": "code",
   "execution_count": 17,
   "metadata": {},
   "outputs": [
    {
     "data": {
      "text/plain": [
       "['Series Description',\n",
       " 'Bank credit, all commercial banks, not seasonally adjusted',\n",
       " 'Securities in bank credit, all commercial banks, not seasonally adjusted',\n",
       " 'Treasury and agency securities, all commercial banks, not seasonally adjusted',\n",
       " 'Treasury and agency securities: Mortgage-backed securities (MBS), all commercial banks, not seasonally adjusted',\n",
       " 'Treasury and agency securities: Non-MBS, all commercial banks, not seasonally adjusted',\n",
       " 'Other securities, all commercial banks, not seasonally adjusted',\n",
       " 'Other securities: Mortgage-backed securities, all commercial banks, not seasonally adjusted',\n",
       " 'Other securities: Non-MBS, all commercial banks, not seasonally adjusted',\n",
       " 'Loans and leases in bank credit, all commercial banks, not seasonally adjusted',\n",
       " 'Commercial and industrial loans, all commercial banks, not seasonally adjusted',\n",
       " 'Real estate loans, all commercial banks, not seasonally adjusted',\n",
       " 'Real estate loans: Residential real estate loans, all commercial banks, not seasonally adjusted',\n",
       " 'Real estate loans: Residential real estate loans: Revolving home equity loans, all commercial banks, not seasonally adjusted',\n",
       " 'Real estate loans: Residential real estate loans: Closed-end residential loans, all commercial banks, not seasonally adjusted',\n",
       " 'Real estate loans: Commercial real estate loans, all commercial banks, not seasonally adjusted',\n",
       " 'Real estate loans: Commercial real estate loans: Construction and land development loans, all commercial banks, not seasonally adjusted',\n",
       " 'Real estate loans: Commercial real estate loans: Secured by farmland, all commercial banks, not seasonally adjusted',\n",
       " 'Real estate loans: Commercial real estate loans: Secured by multifamily properties, all commercial banks, not seasonally adjusted',\n",
       " 'Real estate loans: Commercial real estate loans: Secured by nonfarm nonresidential properties, all commercial banks, not seasonally adjusted',\n",
       " 'Consumer loans, all commercial banks, not seasonally adjusted',\n",
       " 'Consumer loans: Credit cards and other revolving plans, all commercial banks, not seasonally adjusted',\n",
       " 'Consumer loans: Other consumer loans, all commercial banks, not seasonally adjusted',\n",
       " 'Consumer loans: Other consumer loans: Automobile loans, all commercial banks, not seasonally adjusted',\n",
       " 'Consumer loans: Other consumer loans: All other consumer loans, all commercial banks, not seasonally adjusted',\n",
       " 'Other loans and leases: All other loans and leases, all commercial banks, not seasonally adjusted',\n",
       " 'Other loans and leases: All other loans and leases: Loans to nondepository financial institutions, all commercial banks, not seasonally adjusted',\n",
       " 'Other loans and leases: All other loans and leases: Other loans not elsewhere classified, all commercial banks, not seasonally adjusted',\n",
       " 'LESS: Allowance for loan and lease losses, all commercial banks, not seasonally adjusted',\n",
       " 'Cash assets, all commercial banks, not seasonally adjusted',\n",
       " 'Total fed funds sold and securities purcased under agreements to resell at commercial banks',\n",
       " 'Loans to commercial banks, all commercial banks, not seasonally adjusted',\n",
       " 'Other assets, all commercial banks, not seasonally adjusted',\n",
       " 'Total assets, all commercial banks, not seasonally adjusted',\n",
       " 'Deposits, all commercial banks, not seasonally adjusted',\n",
       " 'Large time deposits, all commercial banks, not seasonally adjusted',\n",
       " 'Other deposits, all commercial banks, not seasonally adjusted',\n",
       " 'Borrowings, all commercial banks, not seasonally adjusted',\n",
       " 'Net due to related foreign offices, all commercial banks, not seasonally adjusted',\n",
       " 'Other liabilities, all commercial banks, not seasonally adjusted',\n",
       " 'Total liabilities, all commercial banks, not seasonally adjusted',\n",
       " 'Residual (assets less liabilities), all commercial banks, not seasonally adjusted',\n",
       " 'Net unrealized gains (losses) on available-for-sale securities, all commercial banks, not seasonally adjusted',\n",
       " 'U.S. Treasury and agency securities, MBS, all commercial banks, not seasonally adjusted']"
      ]
     },
     "execution_count": 17,
     "metadata": {},
     "output_type": "execute_result"
    }
   ],
   "source": [
    "labels"
   ]
  },
  {
   "cell_type": "markdown",
   "metadata": {},
   "source": [
    "## Arbitrage spread and the foreign capital"
   ]
  },
  {
   "cell_type": "code",
   "execution_count": null,
   "metadata": {},
   "outputs": [],
   "source": [
    "cash = by_country('Cash assets')\n",
    "borrow = by_country('Borrowings')\n",
    "rrp = by_country('Total fed funds sold and securities purcased under agreements to resell at commercial banks')\n",
    "largedp = by_country('Large time deposits')\n",
    "\n",
    "df_ar = pd.DataFrame()\n",
    "df_ar['foreign_ratio'] = cash['Foreign-related Institutions']/cash['All Commercial Banks']\n",
    "df_ar['forcash'] = cash['Foreign-related Institutions']/1e3 # billions\n",
    "df_ar['borrow'] = borrow['Foreign-related Institutions']/1e3\n",
    "df_ar['rrp'] = rrp['Foreign-related Institutions']/1e3\n",
    "df_ar['largedp'] = largedp['Foreign-related Institutions']/1e3\n",
    "df_ar['3MTB'] = df['TB3'] * 100 # basis points\n",
    "df_ar['spread_FFR'] = 100 * df['FedSpread'].rolling(window = 5, center = False).mean()\n",
    "df_ar['SP500'] = df['SP500'].rolling(window = 5, center = False).mean()\n",
    "\n",
    "df_ar = df_ar.dropna()\n",
    "\n",
    "varnames = list(df_ar)\n",
    "normalized = True\n",
    "\n",
    "exovars = ['forcash','borrow', 'rrp', 'largedp', '3MTB', 'spread_FFR']\n",
    "\n",
    "x = df_ar[exovars]\n",
    "y = df_ar['SP500']\n",
    "\n",
    "#sb.pairplot(x)\n",
    "#plt.show()\n",
    "\n",
    "if normalized: \n",
    "    x = normalize(x)\n",
    "    y = normalize(y)\n"
   ]
  }
 ],
 "metadata": {
  "kernelspec": {
   "display_name": "Python 3",
   "language": "python",
   "name": "python3"
  },
  "language_info": {
   "codemirror_mode": {
    "name": "ipython",
    "version": 3
   },
   "file_extension": ".py",
   "mimetype": "text/x-python",
   "name": "python",
   "nbconvert_exporter": "python",
   "pygments_lexer": "ipython3",
   "version": "3.6.4"
  }
 },
 "nbformat": 4,
 "nbformat_minor": 2
}
