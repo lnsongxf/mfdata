{
 "cells": [
  {
   "cell_type": "code",
   "execution_count": null,
   "metadata": {},
   "outputs": [],
   "source": [
    "import os\n",
    "import sys\n",
    "import functools\n",
    "import pandas as pd\n",
    "import seaborn as sns\n",
    "import datetime\n",
    "import numpy as np\n",
    "import statsmodels.api as sm\n",
    "from statsmodels.tsa.api import VAR, DynamicVAR\n",
    "import matplotlib.pyplot as plt\n",
    "from matplotlib import rcParams\n",
    "\n",
    "h8_rootdir = '/'.join(os.getcwd().split('/')[:3]+['Dropbox/Data/Fed/FRB_H8/'])\n",
    "pathl = h8_rootdir + 'FRB_H8_L.csv'\n",
    "paths = h8_rootdir + 'FRB_H8_S.csv'\n",
    "pathd = h8_rootdir + 'FRB_H8_D.csv'\n",
    "pathf = h8_rootdir + 'FRB_H8_F.csv'\n",
    "path = h8_rootdir + 'FRB_H8.csv'\n",
    "\n",
    "path_repo = '/'.join(os.getcwd().split('/')[:3]+['Dropbox/Data/Other Sources/GCF_Repo.xlsx'])\n",
    "\n",
    "sys.path.insert(0, os.getcwd() + '/GitHub/mfdata')\n",
    "from mfdata import api\n",
    "\n",
    "# import H8 table\n",
    "H8 = api.frb_h8([pathd,pathl,paths,pathf])\n",
    "terms = [a.name for a in H8.pages[0].value]\n",
    "groupnames = [a.category.split(' ')[0] for a in H8.pages[1:]]\n",
    "data_bank = H8.combine(H8.pages[1:], terms)\n",
    "\n",
    "# import DTCC GCF repo rates\n",
    "DTCC = api.dtcc_repo(path_repo)\n",
    "data_repo = DTCC.value\n",
    "\n",
    "# import FRED database: 2008-10-09 - 2018-08\n",
    "api_key = '4784f4ab3b06abdc6c8cbdfa4c7825db'\n",
    "var_list = ['IOER', 'EFFR', 'DGS1MO','DGS3MO', 'DGS6MO', 'DGS1', 'DGS2', 'DGS5', 'DGS10', 'THREEFYTP10']\n",
    "FRED = api.database('fred', api_key, var_list)\n",
    "data_rates = FRED.fetch()"
   ]
  },
  {
   "cell_type": "code",
   "execution_count": null,
   "metadata": {
    "scrolled": true
   },
   "outputs": [],
   "source": [
    "bankvars = ['Cash assets', 'Securities in bank credit', 'Loans and leases in bank credit', \n",
    "            'Total fed funds sold and reverse repo', 'Large time deposits', 'Other deposits']\n",
    "columns = [(a,b) for a in groupnames for b in bankvars]\n",
    "bank = data_bank[columns]\n",
    "bank_logdiff = np.log(bank).diff()\n",
    "bank_logdiff.columns = [a+'_'+b for a in groupnames for b in bankvars]\n",
    "freq = 'W'\n",
    "stata_handle = 0\n",
    "\n",
    "if stata_handle:\n",
    "    # take the difference: difference for rates, log-diff for vars\n",
    "    df = bank_logdiff.resample(freq).mean().dropna() \n",
    "    savepath = '/'.join(os.getcwd().split('/')[:3]+['Dropbox/Data/Banking/'])\n",
    "    df.to_csv(savepath + 'vardata_W.csv')\n",
    "else:\n",
    "    df = bank_logdiff.merge(data_rates , left_index = True, right_index = True, how = 'outer')\n",
    "    df['IOER-EFFR'] = df['IOER']-df['EFFR']\n",
    "    df['Target'] = df['IOER'] - df['DGS3MO']\n",
    "    df = df.merge(data_repo[['Repo: Treasury', 'Repo: MBS']], left_index = True, right_index = True, how = 'outer')\n",
    "    df = df.resample(freq).mean().dropna() # take the difference: difference for rates, log-diff for vars\n",
    "    savepath = '/'.join(os.getcwd().split('/')[:3]+['Dropbox/Data/Banking/'])\n",
    "    df.to_csv(savepath + 'vardata_withrates.csv')"
   ]
  },
  {
   "cell_type": "markdown",
   "metadata": {},
   "source": [
    "### Plot balance sheet data"
   ]
  },
  {
   "cell_type": "code",
   "execution_count": null,
   "metadata": {},
   "outputs": [],
   "source": [
    "assvars = ['Cash assets', 'Securities in bank credit', 'Loans and leases in bank credit', \n",
    "            'Total fed funds sold and reverse repo']\n",
    "liavars = ['Large time deposits', 'Other deposits', 'Borrowings', 'Other liabilities']\n",
    "columns_ass_l = [('Large',b) for b in assvars]\n",
    "columns_lia_l = [('Large',b) for b in liavars]\n",
    "columns_ass_f = [('Foreign-Related',b) for b in assvars]\n",
    "columns_lia_f = [('Foreign-Related',b) for b in liavars]\n",
    "\n",
    "ass_l = data_bank[columns_ass_l]\n",
    "lia_l = data_bank[columns_lia_l]\n",
    "ass_f = data_bank[columns_ass_f]\n",
    "lia_f = data_bank[columns_lia_f]\n",
    "\n",
    "rcParams['font.family'] = 'serif'\n",
    "rcParams['font.size'] = 12\n",
    "fig, axes = plt.subplots(nrows=2, ncols=2, figsize = (20,14))\n",
    "\n",
    "ass_l.plot.area(ax = axes[0,0], grid = True); axes[0,0].set_title('Large Domestic bank: assets');\n",
    "lia_l.plot.area(ax = axes[0,1], grid = True); axes[0,1].set_title('Large Domestic bank: liabilities');\n",
    "ass_f.plot.area(ax = axes[1,0], grid = True); axes[1,0].set_title('Foreign-related bank: assets');\n",
    "lia_f.plot.area(ax = axes[1,1], grid = True); axes[1,1].set_title('Foreign-related bank: liabilities');\n",
    "\n",
    "fig.savefig('/Users/yangjuehan/Dropbox/Projects/Dissertation/empirical/balanesheet.eps', bbox_inches = 'tight')"
   ]
  },
  {
   "cell_type": "markdown",
   "metadata": {},
   "source": [
    "### Interest rate targetting"
   ]
  },
  {
   "cell_type": "code",
   "execution_count": null,
   "metadata": {},
   "outputs": [],
   "source": [
    "from mfdata import dates\n",
    "import datetime"
   ]
  },
  {
   "cell_type": "code",
   "execution_count": null,
   "metadata": {},
   "outputs": [],
   "source": [
    "Date = dates.dates(\"/Users/yangjuehan/Documents/GitHub/mfdata/mfdata/FOMC.csv\")"
   ]
  },
  {
   "cell_type": "code",
   "execution_count": null,
   "metadata": {},
   "outputs": [],
   "source": [
    "# divide into subsamples\n",
    "dflist = []\n",
    "Delta = 0.25\n",
    "N = 20\n",
    "refrate = 'DGS3MO'\n",
    "f = lambda x: max(x,0)\n",
    "for (FOMC, nextFOMC) in zip(Date.FOMC[-N:-1], Date.FOMC[-(N-1):]):\n",
    "    T = FOMC + 2*datetime.timedelta(days = 1)\n",
    "    nextT = nextFOMC + datetime.timedelta(days = 1)\n",
    "    df = data_rates[['IOER', refrate]][T:nextT]\n",
    "    df['Date'] = df.index \n",
    "    df['k'] = pd.DataFrame(data = [(nextT-date).days for date in df['Date']], index = df.index)\n",
    "    df = df.dropna()\n",
    "    df['lambdastar'] = ((df[refrate] - df['IOER'])/Delta) * (90/(90-df['k']))\n",
    "    df['lambda'] = df['lambdastar'].map(f)\n",
    "    dflist.append(df)\n",
    "\n",
    "df = dflist[0]\n",
    "for dfx in dflist[1:]:\n",
    "    df = pd.concat([df, dfx])\n",
    "\n",
    "plt.figure()\n",
    "rcParams['font.family'] = 'serif'\n",
    "rcParams['font.size'] = 12\n",
    "\n",
    "df[['lambda', 'lambdastar']].plot(figsize = (20,8), linewidth = 2, grid = True, \n",
    "                                 color = ['r','k'], style = ['-','--'],fontsize = 16)\n",
    "plt.legend(['$\\lambda_{T,k}$', '$\\lambda^*_{T,k}$'], fontsize = 20)\n",
    "plt.savefig('/Users/yangjuehan/Dropbox/app/ShareLaTex/Proposal/lambda_3MO.eps', bbox_inches = 'tight')"
   ]
  },
  {
   "cell_type": "code",
   "execution_count": null,
   "metadata": {},
   "outputs": [],
   "source": [
    "df['lambda']['2018-03-20':'2018-06-12'].mean()"
   ]
  },
  {
   "cell_type": "code",
   "execution_count": null,
   "metadata": {},
   "outputs": [],
   "source": [
    "# divide into subsamples\n",
    "dflist = []\n",
    "Delta = 0.25\n",
    "N = 20\n",
    "refrate = 'DGS1MO'\n",
    "f = lambda x: max(x,0)\n",
    "for (FOMC, nextFOMC) in zip(Date.FOMC[-N:-1], Date.FOMC[-(N-1):]):\n",
    "    T = FOMC + 2*datetime.timedelta(days = 1)\n",
    "    nextT = nextFOMC + datetime.timedelta(days = 1)\n",
    "    df = data_rates[['IOER', refrate]][T:nextT]\n",
    "    df['Date'] = df.index \n",
    "    df['k'] = pd.DataFrame(data = [(nextT-date).days for date in df['Date']], index = df.index)\n",
    "    df = df.dropna()\n",
    "    df['lambdastar'] = ((df[refrate] - df['IOER'])/Delta) * (30/(30-df['k']))\n",
    "    df['lambda'] = df['lambdastar'].map(f)\n",
    "    dflist.append(df)\n",
    "    \n",
    "df = dflist[0]\n",
    "for dfx in dflist[1:]:\n",
    "    df = pd.concat([df, dfx])\n",
    "    \n",
    "plt.figure()\n",
    "rcParams['font.family'] = 'serif'\n",
    "rcParams['font.size'] = 12\n",
    "\n",
    "df[['lambda', 'lambdastar']].plot(figsize = (20,8), linewidth = 2, grid = True, \n",
    "                                 color = ['r','k'], style = ['-','--'],fontsize = 16)\n",
    "plt.legend(['$\\lambda_{T,k}$', '$\\lambda^*_{T,k}$'], fontsize = 20)\n",
    "plt.savefig('/Users/yangjuehan/Dropbox/app/ShareLaTex/Proposal/lambda_1MO.eps', bbox_inches = 'tight')"
   ]
  },
  {
   "cell_type": "code",
   "execution_count": null,
   "metadata": {},
   "outputs": [],
   "source": [
    "df = data_rates[['IOER', 'DGS1MO', 'DGS3MO', 'DGS6MO', 'DGS1', 'EFFR']].dropna()\n",
    "df['IOER-TB1MO'] = df['IOER']-df['DGS1MO']\n",
    "df['IOER-TB3MO'] = df['IOER']-df['DGS3MO']\n",
    "df['IOER-TB6MO'] = df['IOER']-df['DGS6MO']\n",
    "df['IOER-TB1Y'] = df['IOER']-df['DGS1']\n",
    "df['EFFR-TB1MO'] = df['EFFR'] - df['DGS1MO']\n",
    "df['EFFR-TB3MO'] = df['EFFR'] - df['DGS3MO']\n",
    "df['EFFR-TB6MO'] = df['EFFR'] - df['DGS6MO']\n",
    "df['IOER-EFFR'] = df['IOER'] - df['EFFR']\n",
    "spreads = df\n",
    "\n",
    "plt.figure()\n",
    "rcParams['font.family'] = 'serif'\n",
    "rcParams['font.size'] = 12\n",
    "\n",
    "ax = df[['IOER','DGS1MO']].plot(grid = True, figsize = (15,6), fontsize = 16, color = ['b', 'r'])\n",
    "ax.set_ylabel(\"%\")\n",
    "plt.legend(['IOER', 'TB1MO'],fontsize = 16)\n",
    "plt.savefig('/Users/yangjuehan/Dropbox/Projects/Dissertation/empirical/target_app.eps', bbox_inches = 'tight')"
   ]
  },
  {
   "cell_type": "code",
   "execution_count": null,
   "metadata": {
    "scrolled": false
   },
   "outputs": [],
   "source": [
    "plt.figure()\n",
    "ax = spreads[['IOER-EFFR','IOER-TB3MO','EFFR-TB3MO', 'EFFR-TB1MO', 'EFFR-TB6MO']].plot(grid = True, figsize = (15,6), fontsize = 16)\n",
    "ax.set_ylabel(\"%\")\n",
    "#plt.legend(['IOER-TB3MO', 'EFFR-TB3MO'],fontsize = 16)\n",
    "plt.savefig('/Users/yangjuehan/Dropbox/Projects/Dissertation/empirical/target_spreads.eps', bbox_inches = 'tight')"
   ]
  },
  {
   "cell_type": "code",
   "execution_count": null,
   "metadata": {},
   "outputs": [],
   "source": [
    "Date.FOMC"
   ]
  },
  {
   "cell_type": "code",
   "execution_count": null,
   "metadata": {},
   "outputs": [],
   "source": [
    "df = ass_l['Large']\n",
    "df = df.merge(spreads, left_index= True, right_index = True, how = 'inner')"
   ]
  },
  {
   "cell_type": "code",
   "execution_count": null,
   "metadata": {},
   "outputs": [],
   "source": [
    "np.log(df['Cash assets']).diff().corr(df['IOER-TB3MO'])"
   ]
  },
  {
   "cell_type": "code",
   "execution_count": null,
   "metadata": {},
   "outputs": [],
   "source": [
    "df['Cash assets'].corr(df['IOER-EFFR'])"
   ]
  },
  {
   "cell_type": "code",
   "execution_count": null,
   "metadata": {},
   "outputs": [],
   "source": []
  },
  {
   "cell_type": "code",
   "execution_count": null,
   "metadata": {},
   "outputs": [],
   "source": [
    "assvars = ['Cash assets', 'Total fed funds sold and reverse repo']\n",
    "liavars = ['Large time deposits', 'Other deposits', 'Borrowings']\n",
    "columns_ass_l = [('Large',b) for b in assvars]\n",
    "columns_lia_l = [('Large',b) for b in liavars]\n",
    "columns_ass_s = [('Small',b) for b in assvars]\n",
    "columns_lia_s = [('Small',b) for b in liavars]\n",
    "columns_ass_f = [('Foreign-Related',b) for b in assvars]\n",
    "columns_lia_f = [('Foreign-Related',b) for b in liavars]\n",
    "\n",
    "ass_l = data_bank[columns_ass_l]\n",
    "lia_l = data_bank[columns_lia_l]\n",
    "ass_s = data_bank[columns_ass_s]\n",
    "lia_s = data_bank[columns_lia_s]\n",
    "ass_f = data_bank[columns_ass_f]\n",
    "lia_f = data_bank[columns_lia_f]\n",
    "\n",
    "rcParams['font.family'] = 'serif'\n",
    "rcParams['font.size'] = 12\n",
    "fig, axes = plt.subplots(nrows=3, ncols=2, figsize = (20,20))\n",
    "\n",
    "ass_l.plot.area(ax = axes[0,0], grid = True); axes[0,0].set_title('Large Domestic bank: assets');\n",
    "lia_l.plot.area(ax = axes[0,1], grid = True); axes[0,1].set_title('Large Domestic bank: liabilities');\n",
    "ass_f.plot.area(ax = axes[1,0], grid = True); axes[1,0].set_title('Foreign-related bank: assets');\n",
    "lia_f.plot.area(ax = axes[1,1], grid = True); axes[1,1].set_title('Foreign-related bank: liabilities');\n",
    "ass_s.plot.area(ax = axes[2,0], grid = True); axes[2,0].set_title('Small Domestic bank: assets');\n",
    "lia_s.plot.area(ax = axes[2,1], grid = True); axes[2,1].set_title('Small Domestic bank: liabilities');"
   ]
  },
  {
   "cell_type": "code",
   "execution_count": null,
   "metadata": {},
   "outputs": [],
   "source": [
    "ass_s"
   ]
  },
  {
   "cell_type": "code",
   "execution_count": null,
   "metadata": {},
   "outputs": [],
   "source": []
  }
 ],
 "metadata": {
  "kernelspec": {
   "display_name": "Python 3",
   "language": "python",
   "name": "python3"
  },
  "language_info": {
   "codemirror_mode": {
    "name": "ipython",
    "version": 3
   },
   "file_extension": ".py",
   "mimetype": "text/x-python",
   "name": "python",
   "nbconvert_exporter": "python",
   "pygments_lexer": "ipython3",
   "version": "3.6.4"
  }
 },
 "nbformat": 4,
 "nbformat_minor": 2
}
